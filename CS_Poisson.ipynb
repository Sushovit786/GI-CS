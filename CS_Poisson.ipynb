{
 "cells": [
  {
   "cell_type": "code",
   "execution_count": 15,
   "metadata": {},
   "outputs": [],
   "source": [
    "import matplotlib.pyplot as plt\n",
    "import numpy\n",
    "import csv\n",
    "from scipy.special import gamma, factorial\n",
    "from scipy.fftpack import dct\n",
    "from scipy.special import huber"
   ]
  },
  {
   "cell_type": "code",
   "execution_count": 16,
   "metadata": {},
   "outputs": [],
   "source": [
    "with open('FinalData.csv', newline = '') as f:\n",
    "    reader = csv.reader(f)\n",
    "    data = list(csv.reader(f));\n",
    "    data = data[0:19]\n",
    "    dataResult = numpy.array(data).astype(\"float\")\n",
    "    SampleData = data[0:15]\n",
    "    SampledData = list(SampleData)\n",
    "    SampledDataResult = numpy.array(SampledData).astype(\"float\")"
   ]
  },
  {
   "cell_type": "code",
   "execution_count": 17,
   "metadata": {},
   "outputs": [
    {
     "data": {
      "image/png": "[encoded data removed]",
      "text/plain": [
       "<Figure size 432x288 with 1 Axes>"
      ]
     },
     "metadata": {
      "needs_background": "light"
     },
     "output_type": "display_data"
    }
   ],
   "source": [
    "plt.hist(dataResult);\n",
    "#original"
   ]
  },
  {
   "cell_type": "code",
   "execution_count": 18,
   "metadata": {},
   "outputs": [
    {
     "data": {
      "image/png": "[encoded data removed]",
      "text/plain": [
       "<Figure size 432x288 with 1 Axes>"
      ]
     },
     "metadata": {
      "needs_background": "light"
     },
     "output_type": "display_data"
    }
   ],
   "source": [
    "plt.hist(SampledDataResult);\n",
    "#80 percent data"
   ]
  },
  {
   "cell_type": "code",
   "execution_count": 20,
   "metadata": {},
   "outputs": [
    {
     "data": {
      "image/png": "[encoded data removed]",
      "text/plain": [
       "<Figure size 432x288 with 1 Axes>"
      ]
     },
     "metadata": {
      "needs_background": "light"
     },
     "output_type": "display_data"
    }
   ],
   "source": [
    "num_bins = 100\n",
    "n, bins, patches1 = plt.hist( SampledDataResult, num_bins, facecolor='blue', alpha=1)"
   ]
  },
  {
   "cell_type": "code",
   "execution_count": 21,
   "metadata": {},
   "outputs": [],
   "source": [
    "Counts = n;\n",
    "ColCounts = len(n);\n",
    "RowCounts = numpy.count_nonzero(Counts)\n",
    "patterns = numpy.zeros((RowCounts,ColCounts))\n",
    "index = numpy.nonzero(Counts)[0]"
   ]
  },
  {
   "cell_type": "code",
   "execution_count": null,
   "metadata": {},
   "outputs": [],
   "source": []
  },
  {
   "cell_type": "code",
   "execution_count": 22,
   "metadata": {},
   "outputs": [],
   "source": [
    "for ii in range(RowCounts):\n",
    "    patterns[ii, index[ii]] = 1;\n",
    "    \n",
    "measurements = numpy.matmul(patterns, Counts )"
   ]
  },
  {
   "cell_type": "code",
   "execution_count": 23,
   "metadata": {},
   "outputs": [],
   "source": [
    "x = numpy.ones([ColCounts])"
   ]
  },
  {
   "cell_type": "code",
   "execution_count": 24,
   "metadata": {},
   "outputs": [],
   "source": [
    "from scipy.optimize import minimize\n",
    "\n",
    "def NormApprox(a, x):\n",
    "    Norm = 0;\n",
    "    for ii in range(len(x)):\n",
    "        Norm += (1/a)*(numpy.log(1 + numpy.exp(-a*x[ii])) + numpy.log(1 + numpy.exp(a*x[ii])))\n",
    "    return Norm\n",
    "    \n",
    "def PossLikelihood(x, patt, Measure):\n",
    "        lumbda = 1.5;\n",
    "        a = 200;\n",
    "        ax = numpy.sum(numpy.matmul(patterns, x));\n",
    "        Mlog = numpy.sum(numpy.multiply(measurements, numpy.log(numpy.matmul(patterns, x))));\n",
    "        #fac = numpy.sum(numpy.log(numpy.multiply(measurements, gamma(measurements))))\n",
    "        fac = numpy.sum(numpy.log(factorial(measurements)))\n",
    "        #norm1 = lumbda* (numpy.linalg.norm(dct(x + 10**-6, norm = 'ortho'),1) )\n",
    "        norm1 = lumbda * NormApprox(a, x)\n",
    "        Objective = ax - Mlog + fac + norm1\n",
    "        return Objective"
   ]
  },
  {
   "cell_type": "code",
   "execution_count": 25,
   "metadata": {
    "scrolled": true
   },
   "outputs": [],
   "source": [
    "result = minimize(PossLikelihood, x, args=(patterns,measurements))"
   ]
  },
  {
   "cell_type": "code",
   "execution_count": 26,
   "metadata": {},
   "outputs": [
    {
     "data": {
      "text/plain": [
       "      fun: 29.62812363333041\n",
       " hess_inv: array([[ 9.39948397e-01, -6.45870159e-06, -6.45870159e-06, ...,\n",
       "        -6.45870159e-06, -6.42806955e-02, -6.42806955e-02],\n",
       "       [-6.45870159e-06,  9.83161416e-01, -1.68385843e-02, ...,\n",
       "        -1.68385843e-02, -5.46151790e-06, -5.46151790e-06],\n",
       "       [-6.45870159e-06, -1.68385843e-02,  9.83161416e-01, ...,\n",
       "        -1.68385843e-02, -5.46151790e-06, -5.46151790e-06],\n",
       "       ...,\n",
       "       [-6.45870159e-06, -1.68385843e-02, -1.68385843e-02, ...,\n",
       "         9.83161416e-01, -5.46151790e-06, -5.46151790e-06],\n",
       "       [-6.42806955e-02, -5.46151790e-06, -5.46151790e-06, ...,\n",
       "        -5.46151790e-06,  9.27163560e-01, -7.28364399e-02],\n",
       "       [-6.42806955e-02, -5.46151790e-06, -5.46151790e-06, ...,\n",
       "        -5.46151790e-06, -7.28364399e-02,  9.27163560e-01]])\n",
       "      jac: array([ 9.53674316e-07,  0.00000000e+00,  0.00000000e+00,  9.53674316e-07,\n",
       "        9.53674316e-07,  0.00000000e+00,  0.00000000e+00,  0.00000000e+00,\n",
       "        0.00000000e+00,  0.00000000e+00,  0.00000000e+00,  0.00000000e+00,\n",
       "        0.00000000e+00,  0.00000000e+00,  9.53674316e-07,  0.00000000e+00,\n",
       "        0.00000000e+00,  0.00000000e+00,  0.00000000e+00,  0.00000000e+00,\n",
       "        0.00000000e+00,  0.00000000e+00,  0.00000000e+00,  0.00000000e+00,\n",
       "        0.00000000e+00,  0.00000000e+00,  0.00000000e+00,  0.00000000e+00,\n",
       "        0.00000000e+00,  0.00000000e+00, -4.76837158e-07,  0.00000000e+00,\n",
       "        0.00000000e+00,  0.00000000e+00,  0.00000000e+00, -4.76837158e-07,\n",
       "        3.33786011e-06,  0.00000000e+00,  0.00000000e+00,  0.00000000e+00,\n",
       "        0.00000000e+00,  0.00000000e+00,  0.00000000e+00,  0.00000000e+00,\n",
       "        0.00000000e+00,  0.00000000e+00,  0.00000000e+00,  3.33786011e-06,\n",
       "        0.00000000e+00,  0.00000000e+00,  0.00000000e+00,  0.00000000e+00,\n",
       "       -3.81469727e-06,  0.00000000e+00,  0.00000000e+00,  0.00000000e+00,\n",
       "        0.00000000e+00,  0.00000000e+00,  0.00000000e+00,  0.00000000e+00,\n",
       "        0.00000000e+00,  0.00000000e+00,  0.00000000e+00,  0.00000000e+00,\n",
       "        0.00000000e+00,  0.00000000e+00,  0.00000000e+00,  0.00000000e+00,\n",
       "        0.00000000e+00,  0.00000000e+00,  0.00000000e+00,  0.00000000e+00,\n",
       "        0.00000000e+00,  0.00000000e+00, -1.43051147e-06, -1.43051147e-06,\n",
       "        0.00000000e+00,  0.00000000e+00,  0.00000000e+00,  0.00000000e+00,\n",
       "        0.00000000e+00,  0.00000000e+00,  0.00000000e+00,  0.00000000e+00,\n",
       "        0.00000000e+00,  0.00000000e+00,  0.00000000e+00,  0.00000000e+00,\n",
       "       -1.43051147e-06,  0.00000000e+00,  0.00000000e+00,  0.00000000e+00,\n",
       "        0.00000000e+00,  0.00000000e+00,  0.00000000e+00, -1.43051147e-06,\n",
       "        0.00000000e+00,  0.00000000e+00,  4.76837158e-07,  4.76837158e-07])\n",
       "  message: 'Optimization terminated successfully.'\n",
       "     nfev: 2550\n",
       "      nit: 14\n",
       "     njev: 25\n",
       "   status: 0\n",
       "  success: True\n",
       "        x: array([ 4.00000115e-01, -7.53556814e-09, -7.53556784e-09,  4.00000115e-01,\n",
       "        4.00000115e-01, -8.02132596e-09, -8.02132593e-09, -8.02132597e-09,\n",
       "       -7.53556784e-09, -7.53556803e-09, -8.02132603e-09, -8.02132607e-09,\n",
       "       -7.53556809e-09, -7.53556811e-09,  4.00000115e-01, -7.53556780e-09,\n",
       "       -7.53556799e-09, -7.53556812e-09, -7.53556822e-09, -7.53556803e-09,\n",
       "       -7.53556812e-09, -7.53556809e-09, -7.53556819e-09, -7.53556798e-09,\n",
       "       -7.53556813e-09, -7.53556813e-09, -7.53556796e-09, -7.53556803e-09,\n",
       "       -7.53556809e-09, -7.53556799e-09,  3.99999874e-01, -7.53556784e-09,\n",
       "       -7.53556806e-09, -7.53556791e-09, -7.53556806e-09,  3.99999874e-01,\n",
       "        4.00000504e-01, -7.53556798e-09, -7.53556797e-09, -7.53556800e-09,\n",
       "       -7.53556804e-09, -7.53556827e-09, -7.53556828e-09, -7.53556823e-09,\n",
       "       -7.53556809e-09, -7.53556812e-09, -7.53556837e-09,  4.00000504e-01,\n",
       "       -7.53556822e-09, -7.53556834e-09, -7.53556872e-09, -7.53556865e-09,\n",
       "        3.99999389e-01, -8.06646842e-09, -8.06646785e-09, -8.06646839e-09,\n",
       "       -8.06646831e-09, -8.06646868e-09, -8.06646844e-09, -8.06646842e-09,\n",
       "       -8.06646844e-09, -8.06646852e-09, -8.06646853e-09, -8.06646866e-09,\n",
       "       -8.06646923e-09, -8.06646888e-09, -7.87768318e-09, -7.87768357e-09,\n",
       "       -7.87768340e-09, -7.87768363e-09, -7.87768355e-09, -7.87768376e-09,\n",
       "       -7.87768376e-09, -7.87768365e-09,  3.99999755e-01,  3.99999755e-01,\n",
       "       -7.53556895e-09, -7.53556899e-09, -7.53556901e-09, -7.53556897e-09,\n",
       "       -7.53556901e-09, -7.53556894e-09, -7.53556899e-09, -7.53556908e-09,\n",
       "       -7.53556908e-09, -7.53556899e-09, -7.53556905e-09, -7.53556906e-09,\n",
       "        3.99999755e-01, -7.53556900e-09, -7.53556911e-09, -7.53556901e-09,\n",
       "       -7.53556901e-09, -7.53556909e-09, -7.53556903e-09,  3.99999755e-01,\n",
       "       -7.53556906e-09, -7.53556902e-09,  4.00000037e-01,  4.00000037e-01])"
      ]
     },
     "execution_count": 26,
     "metadata": {},
     "output_type": "execute_result"
    }
   ],
   "source": [
    "result"
   ]
  },
  {
   "cell_type": "raw",
   "metadata": {},
   "source": []
  },
  {
   "cell_type": "code",
   "execution_count": null,
   "metadata": {},
   "outputs": [],
   "source": []
  },
  {
   "cell_type": "code",
   "execution_count": null,
   "metadata": {},
   "outputs": [],
   "source": []
  },
  {
   "cell_type": "code",
   "execution_count": null,
   "metadata": {},
   "outputs": [],
   "source": []
  },
  {
   "cell_type": "code",
   "execution_count": null,
   "metadata": {},
   "outputs": [],
   "source": []
  },
  {
   "cell_type": "code",
   "execution_count": null,
   "metadata": {},
   "outputs": [],
   "source": [
    "#x1 =numpy.ones([len(x)])\n",
    "#minimize(PossLikelihood, x1,   method ='L-BFGS-B', args=(patterns, measurements))"
   ]
  },
  {
   "cell_type": "code",
   "execution_count": null,
   "metadata": {},
   "outputs": [],
   "source": []
  },
  {
   "cell_type": "code",
   "execution_count": null,
   "metadata": {},
   "outputs": [],
   "source": [
    "# x1 =numpy.ones([len(x)])\n",
    "# bounds = numpy.zeros([len(x1),2])\n",
    "# bounds[:,1]  = 1000\n",
    "# #minimize(PossLikelihood(x1, patterns, measurements) , x1,  method = 'CG')\n",
    "\n",
    "# result = minimize(PossLikelihood, x1, args=(patterns,measurements))"
   ]
  },
  {
   "cell_type": "code",
   "execution_count": null,
   "metadata": {},
   "outputs": [],
   "source": [
    "norm1 = (numpy.linalg.norm(dct(x, norm = 'ortho'),1) )"
   ]
  },
  {
   "cell_type": "code",
   "execution_count": null,
   "metadata": {},
   "outputs": [],
   "source": [
    "#norm1 = lumbda * numpy.sum(dct(x, norm = 'ortho'));\n",
    "        #norm1 = lumbda* ( (numpy.linalg.norm(dct(x, norm = 'ortho'),1) ) / (numpy.linalg.norm(dct(x, norm = 'ortho'),2) )  )"
   ]
  },
  {
   "cell_type": "code",
   "execution_count": null,
   "metadata": {},
   "outputs": [],
   "source": [
    "numpy.sum(dct(x, norm = 'ortho'))"
   ]
  },
  {
   "cell_type": "code",
   "execution_count": null,
   "metadata": {},
   "outputs": [],
   "source": [
    "\n",
    "\n"
   ]
  },
  {
   "cell_type": "code",
   "execution_count": null,
   "metadata": {},
   "outputs": [],
   "source": [
    "\n",
    "from scipy.special import huber"
   ]
  },
  {
   "cell_type": "code",
   "execution_count": null,
   "metadata": {},
   "outputs": [],
   "source": [
    "abc = ([0,-1,2,-3,1,-2,3])\n",
    "abclength = len(abc)"
   ]
  },
  {
   "cell_type": "code",
   "execution_count": null,
   "metadata": {},
   "outputs": [],
   "source": [
    "abc"
   ]
  },
  {
   "cell_type": "code",
   "execution_count": null,
   "metadata": {},
   "outputs": [],
   "source": [
    "(1/a)*(numpy.log(1 + exp(-a*x)) + numpy.log(1 + exp(a*x)))"
   ]
  },
  {
   "cell_type": "code",
   "execution_count": null,
   "metadata": {},
   "outputs": [],
   "source": []
  },
  {
   "cell_type": "code",
   "execution_count": null,
   "metadata": {},
   "outputs": [],
   "source": [
    "def NormApprox(a, x):\n",
    "    Norm = 0;\n",
    "    for ii in range(len(x)):\n",
    "        Norm += (1/a)*(numpy.log(1 + numpy.exp(-a*x[ii])) + numpy.log(1 + numpy.exp(a*x[ii])))\n",
    "    return Norm\n",
    "    "
   ]
  },
  {
   "cell_type": "code",
   "execution_count": 12,
   "metadata": {},
   "outputs": [
    {
     "data": {
      "text/plain": [
       "inf"
      ]
     },
     "execution_count": 12,
     "metadata": {},
     "output_type": "execute_result"
    }
   ],
   "source": [
    "xx = 1;\n",
    "a = 1000;\n",
    "(1/a)*(numpy.log(1 + numpy.exp(-a*xx)) + numpy.log(1 + numpy.exp(a*xx)))"
   ]
  },
  {
   "cell_type": "code",
   "execution_count": 13,
   "metadata": {},
   "outputs": [
    {
     "data": {
      "text/plain": [
       "0.0"
      ]
     },
     "execution_count": 13,
     "metadata": {},
     "output_type": "execute_result"
    }
   ],
   "source": [
    "numpy.log(1 + numpy.exp(-a*xx))"
   ]
  },
  {
   "cell_type": "code",
   "execution_count": 14,
   "metadata": {},
   "outputs": [
    {
     "data": {
      "text/plain": [
       "0.0"
      ]
     },
     "execution_count": 14,
     "metadata": {},
     "output_type": "execute_result"
    }
   ],
   "source": [
    "numpy.log(1 + numpy.exp(-a*xx))"
   ]
  },
  {
   "cell_type": "code",
   "execution_count": null,
   "metadata": {},
   "outputs": [],
   "source": [
    "NormApprox(a, abc)"
   ]
  },
  {
   "cell_type": "code",
   "execution_count": null,
   "metadata": {},
   "outputs": [],
   "source": [
    "12.0069314718056 - 12.0"
   ]
  },
  {
   "cell_type": "code",
   "execution_count": null,
   "metadata": {},
   "outputs": [],
   "source": [
    "numpy.linalg.norm(x,1)"
   ]
  },
  {
   "cell_type": "code",
   "execution_count": null,
   "metadata": {},
   "outputs": [],
   "source": [
    "NormApprox(200, x)"
   ]
  },
  {
   "cell_type": "code",
   "execution_count": null,
   "metadata": {},
   "outputs": [],
   "source": [
    "x"
   ]
  },
  {
   "cell_type": "code",
   "execution_count": null,
   "metadata": {},
   "outputs": [],
   "source": []
  }
 ],
 "metadata": {
  "kernelspec": {
   "display_name": "Python 3",
   "language": "python",
   "name": "python3"
  },
  "language_info": {
   "codemirror_mode": {
    "name": "ipython",
    "version": 3
   },
   "file_extension": ".py",
   "mimetype": "text/x-python",
   "name": "python",
   "nbconvert_exporter": "python",
   "pygments_lexer": "ipython3",
   "version": "3.7.3"
  }
 },
 "nbformat": 4,
 "nbformat_minor": 2
}
